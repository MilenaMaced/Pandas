{
  "nbformat": 4,
  "nbformat_minor": 0,
  "metadata": {
    "colab": {
      "name": "Automobile Data Set.ipynb",
      "provenance": []
    },
    "kernelspec": {
      "name": "python3",
      "display_name": "Python 3"
    }
  },
  "cells": [
    {
      "cell_type": "markdown",
      "metadata": {
        "id": "FkY1Il172mFR",
        "colab_type": "text"
      },
      "source": [
        "# Importing from the Pandas library"
      ]
    },
    {
      "cell_type": "code",
      "metadata": {
        "id": "MnH1VNs3jiQ9",
        "colab_type": "code",
        "colab": {}
      },
      "source": [
        "import pandas as pd\n",
        "import numpy as np"
      ],
      "execution_count": 17,
      "outputs": []
    },
    {
      "cell_type": "markdown",
      "metadata": {
        "id": "QzMQxiUG2qZU",
        "colab_type": "text"
      },
      "source": [
        "\n",
        "## Automobile Data Set"
      ]
    },
    {
      "cell_type": "code",
      "metadata": {
        "id": "7m5pPXbbxdFx",
        "colab_type": "code",
        "colab": {
          "base_uri": "https://localhost:8080/",
          "height": 270
        },
        "outputId": "898338e3-0ff1-432b-9360-b72a812b831f"
      },
      "source": [
        "url = 'https://archive.ics.uci.edu/ml/machine-learning-databases/autos/imports-85.data'\n",
        "df = pd.read_csv(url)\n",
        "df.head()\n"
      ],
      "execution_count": 12,
      "outputs": [
        {
          "output_type": "execute_result",
          "data": {
            "text/html": [
              "<div>\n",
              "<style scoped>\n",
              "    .dataframe tbody tr th:only-of-type {\n",
              "        vertical-align: middle;\n",
              "    }\n",
              "\n",
              "    .dataframe tbody tr th {\n",
              "        vertical-align: top;\n",
              "    }\n",
              "\n",
              "    .dataframe thead th {\n",
              "        text-align: right;\n",
              "    }\n",
              "</style>\n",
              "<table border=\"1\" class=\"dataframe\">\n",
              "  <thead>\n",
              "    <tr style=\"text-align: right;\">\n",
              "      <th></th>\n",
              "      <th>3</th>\n",
              "      <th>?</th>\n",
              "      <th>alfa-romero</th>\n",
              "      <th>gas</th>\n",
              "      <th>std</th>\n",
              "      <th>two</th>\n",
              "      <th>convertible</th>\n",
              "      <th>rwd</th>\n",
              "      <th>front</th>\n",
              "      <th>88.60</th>\n",
              "      <th>168.80</th>\n",
              "      <th>64.10</th>\n",
              "      <th>48.80</th>\n",
              "      <th>2548</th>\n",
              "      <th>dohc</th>\n",
              "      <th>four</th>\n",
              "      <th>130</th>\n",
              "      <th>mpfi</th>\n",
              "      <th>3.47</th>\n",
              "      <th>2.68</th>\n",
              "      <th>9.00</th>\n",
              "      <th>111</th>\n",
              "      <th>5000</th>\n",
              "      <th>21</th>\n",
              "      <th>27</th>\n",
              "      <th>13495</th>\n",
              "    </tr>\n",
              "  </thead>\n",
              "  <tbody>\n",
              "    <tr>\n",
              "      <th>0</th>\n",
              "      <td>3</td>\n",
              "      <td>?</td>\n",
              "      <td>alfa-romero</td>\n",
              "      <td>gas</td>\n",
              "      <td>std</td>\n",
              "      <td>two</td>\n",
              "      <td>convertible</td>\n",
              "      <td>rwd</td>\n",
              "      <td>front</td>\n",
              "      <td>88.6</td>\n",
              "      <td>168.8</td>\n",
              "      <td>64.1</td>\n",
              "      <td>48.8</td>\n",
              "      <td>2548</td>\n",
              "      <td>dohc</td>\n",
              "      <td>four</td>\n",
              "      <td>130</td>\n",
              "      <td>mpfi</td>\n",
              "      <td>3.47</td>\n",
              "      <td>2.68</td>\n",
              "      <td>9.0</td>\n",
              "      <td>111</td>\n",
              "      <td>5000</td>\n",
              "      <td>21</td>\n",
              "      <td>27</td>\n",
              "      <td>16500</td>\n",
              "    </tr>\n",
              "    <tr>\n",
              "      <th>1</th>\n",
              "      <td>1</td>\n",
              "      <td>?</td>\n",
              "      <td>alfa-romero</td>\n",
              "      <td>gas</td>\n",
              "      <td>std</td>\n",
              "      <td>two</td>\n",
              "      <td>hatchback</td>\n",
              "      <td>rwd</td>\n",
              "      <td>front</td>\n",
              "      <td>94.5</td>\n",
              "      <td>171.2</td>\n",
              "      <td>65.5</td>\n",
              "      <td>52.4</td>\n",
              "      <td>2823</td>\n",
              "      <td>ohcv</td>\n",
              "      <td>six</td>\n",
              "      <td>152</td>\n",
              "      <td>mpfi</td>\n",
              "      <td>2.68</td>\n",
              "      <td>3.47</td>\n",
              "      <td>9.0</td>\n",
              "      <td>154</td>\n",
              "      <td>5000</td>\n",
              "      <td>19</td>\n",
              "      <td>26</td>\n",
              "      <td>16500</td>\n",
              "    </tr>\n",
              "    <tr>\n",
              "      <th>2</th>\n",
              "      <td>2</td>\n",
              "      <td>164</td>\n",
              "      <td>audi</td>\n",
              "      <td>gas</td>\n",
              "      <td>std</td>\n",
              "      <td>four</td>\n",
              "      <td>sedan</td>\n",
              "      <td>fwd</td>\n",
              "      <td>front</td>\n",
              "      <td>99.8</td>\n",
              "      <td>176.6</td>\n",
              "      <td>66.2</td>\n",
              "      <td>54.3</td>\n",
              "      <td>2337</td>\n",
              "      <td>ohc</td>\n",
              "      <td>four</td>\n",
              "      <td>109</td>\n",
              "      <td>mpfi</td>\n",
              "      <td>3.19</td>\n",
              "      <td>3.40</td>\n",
              "      <td>10.0</td>\n",
              "      <td>102</td>\n",
              "      <td>5500</td>\n",
              "      <td>24</td>\n",
              "      <td>30</td>\n",
              "      <td>13950</td>\n",
              "    </tr>\n",
              "    <tr>\n",
              "      <th>3</th>\n",
              "      <td>2</td>\n",
              "      <td>164</td>\n",
              "      <td>audi</td>\n",
              "      <td>gas</td>\n",
              "      <td>std</td>\n",
              "      <td>four</td>\n",
              "      <td>sedan</td>\n",
              "      <td>4wd</td>\n",
              "      <td>front</td>\n",
              "      <td>99.4</td>\n",
              "      <td>176.6</td>\n",
              "      <td>66.4</td>\n",
              "      <td>54.3</td>\n",
              "      <td>2824</td>\n",
              "      <td>ohc</td>\n",
              "      <td>five</td>\n",
              "      <td>136</td>\n",
              "      <td>mpfi</td>\n",
              "      <td>3.19</td>\n",
              "      <td>3.40</td>\n",
              "      <td>8.0</td>\n",
              "      <td>115</td>\n",
              "      <td>5500</td>\n",
              "      <td>18</td>\n",
              "      <td>22</td>\n",
              "      <td>17450</td>\n",
              "    </tr>\n",
              "    <tr>\n",
              "      <th>4</th>\n",
              "      <td>2</td>\n",
              "      <td>?</td>\n",
              "      <td>audi</td>\n",
              "      <td>gas</td>\n",
              "      <td>std</td>\n",
              "      <td>two</td>\n",
              "      <td>sedan</td>\n",
              "      <td>fwd</td>\n",
              "      <td>front</td>\n",
              "      <td>99.8</td>\n",
              "      <td>177.3</td>\n",
              "      <td>66.3</td>\n",
              "      <td>53.1</td>\n",
              "      <td>2507</td>\n",
              "      <td>ohc</td>\n",
              "      <td>five</td>\n",
              "      <td>136</td>\n",
              "      <td>mpfi</td>\n",
              "      <td>3.19</td>\n",
              "      <td>3.40</td>\n",
              "      <td>8.5</td>\n",
              "      <td>110</td>\n",
              "      <td>5500</td>\n",
              "      <td>19</td>\n",
              "      <td>25</td>\n",
              "      <td>15250</td>\n",
              "    </tr>\n",
              "  </tbody>\n",
              "</table>\n",
              "</div>"
            ],
            "text/plain": [
              "   3    ?  alfa-romero  gas  std   two  ...  9.00  111  5000  21  27  13495\n",
              "0  3    ?  alfa-romero  gas  std   two  ...   9.0  111  5000  21  27  16500\n",
              "1  1    ?  alfa-romero  gas  std   two  ...   9.0  154  5000  19  26  16500\n",
              "2  2  164         audi  gas  std  four  ...  10.0  102  5500  24  30  13950\n",
              "3  2  164         audi  gas  std  four  ...   8.0  115  5500  18  22  17450\n",
              "4  2    ?         audi  gas  std   two  ...   8.5  110  5500  19  25  15250\n",
              "\n",
              "[5 rows x 26 columns]"
            ]
          },
          "metadata": {
            "tags": []
          },
          "execution_count": 12
        }
      ]
    },
    {
      "cell_type": "markdown",
      "metadata": {
        "id": "CcGZEnfmxPXf",
        "colab_type": "text"
      },
      "source": [
        "# Last Data of DataFrame"
      ]
    },
    {
      "cell_type": "code",
      "metadata": {
        "id": "wGKERpv1xO6P",
        "colab_type": "code",
        "colab": {}
      },
      "source": [
        "df.tail()"
      ],
      "execution_count": null,
      "outputs": []
    },
    {
      "cell_type": "markdown",
      "metadata": {
        "id": "KrCWgkAV2Ikl",
        "colab_type": "text"
      },
      "source": [
        "# Adding the name of the DataFrame columns"
      ]
    },
    {
      "cell_type": "code",
      "metadata": {
        "id": "P-CqM62f1fTh",
        "colab_type": "code",
        "colab": {}
      },
      "source": [
        "name_columns = ['symboling','normalized-losses','make','fuel-type','aspiration','num-of-doors',\n",
        "              'body-style','drive-wheels','engine-location','wheel-base','length', 'width', 'height',\n",
        "              'curb-weight','engine-type','num-of-cylinders','engine-size','fuel-system',\n",
        "              'bore','stroke','compression-ratio','horsepower','peak-rpm','city-mpg','highway-mpg','price']\n",
        "df.columns = name_columns\n",
        "df.head(20)"
      ],
      "execution_count": null,
      "outputs": []
    },
    {
      "cell_type": "markdown",
      "metadata": {
        "id": "xYxfbYTm7VXK",
        "colab_type": "text"
      },
      "source": [
        "We use <code>dataFrame.dtypes</code> to check data types"
      ]
    },
    {
      "cell_type": "code",
      "metadata": {
        "id": "AMq04u757U1I",
        "colab_type": "code",
        "colab": {}
      },
      "source": [
        "df.dtypes"
      ],
      "execution_count": null,
      "outputs": []
    },
    {
      "cell_type": "markdown",
      "metadata": {
        "id": "8wcyBH7E75kN",
        "colab_type": "text"
      },
      "source": [
        "Returns a statistical summary <code>dataFrame.describe()</code> "
      ]
    },
    {
      "cell_type": "code",
      "metadata": {
        "id": "xO0JqOvt2Ffm",
        "colab_type": "code",
        "colab": {}
      },
      "source": [
        "df.describe()"
      ],
      "execution_count": null,
      "outputs": []
    },
    {
      "cell_type": "markdown",
      "metadata": {
        "id": "yfGq1xUV8gFR",
        "colab_type": "text"
      },
      "source": [
        "Provides full summary statistical <code>dataFrame.describe(include='all')</code>"
      ]
    },
    {
      "cell_type": "code",
      "metadata": {
        "id": "4NnFdBvT8xdl",
        "colab_type": "code",
        "colab": {}
      },
      "source": [
        "df.describe(include='all')"
      ],
      "execution_count": null,
      "outputs": []
    },
    {
      "cell_type": "markdown",
      "metadata": {
        "id": "5ACnDo8X9N6w",
        "colab_type": "text"
      },
      "source": [
        "<code>dataFrame.info()</code> provides a concise summary of your DataFrame."
      ]
    },
    {
      "cell_type": "code",
      "metadata": {
        "id": "N-t542MY9Io2",
        "colab_type": "code",
        "colab": {}
      },
      "source": [
        "df.info() "
      ],
      "execution_count": null,
      "outputs": []
    },
    {
      "cell_type": "markdown",
      "metadata": {
        "id": "-9n-J1zbPeyd",
        "colab_type": "text"
      },
      "source": [
        "Replacing the element **?** of the **normalized-losses** column by Nan"
      ]
    },
    {
      "cell_type": "code",
      "metadata": {
        "id": "w5m8__T0NsAd",
        "colab_type": "code",
        "colab": {}
      },
      "source": [
        "df = df.replace({\"normalized-losses\":{'?': np.nan}})\n",
        "df"
      ],
      "execution_count": null,
      "outputs": []
    },
    {
      "cell_type": "markdown",
      "metadata": {
        "id": "DaQ_8XWeQwDW",
        "colab_type": "text"
      },
      "source": [
        "Changing tuple values\n",
        "who are with Nan"
      ]
    },
    {
      "cell_type": "code",
      "metadata": {
        "id": "vHNlH9lIQbs0",
        "colab_type": "code",
        "colab": {}
      },
      "source": [
        "df.fillna(10)"
      ],
      "execution_count": null,
      "outputs": []
    },
    {
      "cell_type": "markdown",
      "metadata": {
        "id": "KC-h9XHmP0I3",
        "colab_type": "text"
      },
      "source": [
        "Removing NaN from the \"normalized-losses\" column"
      ]
    },
    {
      "cell_type": "code",
      "metadata": {
        "id": "zo9LeUCBQDrs",
        "colab_type": "code",
        "colab": {}
      },
      "source": [
        "df = df.dropna()\n",
        "df"
      ],
      "execution_count": null,
      "outputs": []
    }
  ]
}